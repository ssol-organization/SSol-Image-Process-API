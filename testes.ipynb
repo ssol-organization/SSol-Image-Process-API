{
 "cells": [
  {
   "cell_type": "code",
   "execution_count": 27,
   "metadata": {},
   "outputs": [
    {
     "name": "stdout",
     "output_type": "stream",
     "text": [
      "[['apoio1', None, 99], ['apoio2', None, 99], ['pontual', 6, 99], ['distrib', 10, 99], ['distrib', 10, 99], ['triang', 3, 99], ['triang', 6, 99], ['triang', 10, 99]]\n"
     ]
    }
   ],
   "source": [
    "# padrão de retorno:\n",
    "# [tipo, modulo, posicao_i]\n",
    "# posicao i é a posição inicial do objeto, como as distancias sao constantes nao é necessário posicao f pra objetos\n",
    "\n",
    "def classify(data, position):\n",
    "    result = []\n",
    "    for i in data:\n",
    "        info = i.split('\\n')\n",
    "        t = info[0].split('t:')[1]\n",
    "        w = None if info[1].split('w:')[1] == '0' else int(info[1].split('w:')[1])\n",
    "        if 'apoio' in t:\n",
    "            result.append(classify_apoios(t, position))\n",
    "        else:\n",
    "            result.append(classify_cargas(t, w, position))\n",
    "    return result\n",
    "        \n",
    "def classify_apoios(t, position):\n",
    "    return [t, None, position] if t == 'apoio1' else [t, None, position]\n",
    "    \n",
    "def classify_cargas(t, w, position):\n",
    "    return [t, w, position]\n",
    "\n",
    "qr1 = \"t:apoio1\\nw:0\"\n",
    "qr2 = \"t:apoio2\\nw:0\"\n",
    "qr3 = \"t:pontual\\nw:6\"\n",
    "qr4 = \"t:distrib\\nw:10\"\n",
    "qr5 = \"t:distrib\\nw:10\"\n",
    "qr6 = \"t:triang\\nw:3\"\n",
    "qr7 = \"t:triang\\nw:6\"\n",
    "qr8 = \"t:triang\\nw:10\"\n",
    "\n",
    "data = [qr1, qr2, qr3, qr4, qr5, qr6, qr7, qr8]\n",
    "print(classify(data, 99))\n",
    "\n",
    "def interpret(all_data):\n",
    "    apoios = [] #terão tipo e posição\n",
    "    cargas_pontuais = []\n",
    "    cargas_distribuidas = []\n",
    "    cargas_triangulares = [] \n",
    "    d_pos = True #True significa inicio e False significa final; posicao da carga distribuida\n",
    "    t_pos = True #posicao da carga triangular\n",
    "    count_d = 0\n",
    "    count_t = 0\n",
    "    for position in all_data:\n",
    "        for data in all_data[position]:\n",
    "            if data[0] == 'apoio1':\n",
    "                apoios.append(1, data[1]) # tipo e posição inicial\n",
    "            elif data[0] == 'apoio2'\n",
    "                apoios.append(2, data[1]) # tipo e posição inicial\n",
    "            elif 'pontual' in data[0]:\n",
    "                cargas_pontuais.append(data[1], data[2])\n",
    "            elif 'distrib' in data[0]:\n",
    "                if d_pos: # if true é o início da carga distribuida\n",
    "            elif 'triang' in data[0]:\n",
    "                if t_pos: #if true é o início  da carga distribuida\n",
    "                    \n",
    "                    \n"
   ]
  }
 ],
 "metadata": {
  "kernelspec": {
   "display_name": "Python 3",
   "language": "python",
   "name": "python3"
  },
  "language_info": {
   "codemirror_mode": {
    "name": "ipython",
    "version": 3
   },
   "file_extension": ".py",
   "mimetype": "text/x-python",
   "name": "python",
   "nbconvert_exporter": "python",
   "pygments_lexer": "ipython3",
   "version": "3.7.3"
  }
 },
 "nbformat": 4,
 "nbformat_minor": 2
}
